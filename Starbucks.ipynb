{
 "cells": [
  {
   "cell_type": "markdown",
   "metadata": {},
   "source": [
    "# Promotion Analysis to Starbucks\n",
    "<br>\n",
    "\n",
    "<img src=\"https://opj.ca/wp-content/uploads/2018/02/New-Starbucks-Logo-1200x969.jpg\" width=\"200\" height=\"200\">\n",
    "<br>\n",
    "\n",
    "## Contents\n",
    "\n",
    "1. [Information of background to Project](#1)\n",
    "2. [Installation: Loading Libraries](#2)\n",
    "3. [Loading and Inspection of Data](#3)\n",
    "4. [Calculating of IRR and NIR](#4) \n",
    "5. [Hypothesis Testing Group of Control and Experiment](#5)\n",
    "6. [Hypothesis Testing for NIR and IRR Value](#6)\n",
    "7. [Hypothesis Testing for IRR Value](#7)\n",
    "8. [Model Creation](#8)"
   ]
  },
  {
   "cell_type": "markdown",
   "metadata": {},
   "source": [
    "---\n",
    "<p style=\"text-align: center;\"><span style=\"font-size: 70px; color: #D7D1C9;\">&#8912;&#8901;&#8913;</span><em></em></p>\n",
    "\n",
    "<a id=\"1\"></a>\n",
    "## 1. Background Information\n",
    "\n",
    "The dataset we will be dealing in this portfolio exercise was originally used as a take-home assignment provided by Starbucks for their job candidates. The data for this exercise consists of about 120,000 data points split in a 2:1 ratio among training and test files. In the experiment simulated by the data, an advertising promotion was tested to see if it would bring more customers to purchase a specific product priced at $10. Since it costs the company 0.15 to send out each promotion, it would be best to limit that promotion only to those that are most receptive to the promotion. Each data point includes one column indicating whether or not an individual was sent a promotion for the product, and one column indicating whether or not that individual eventually purchased that product. Each individual also has seven additional features associated with them, which are provided abstractly as V1-V7.\n",
    "\n",
    "#### QUESTIONS\n",
    "1. Calculate Net Incremental Revenue (NIR), Incremental Response Rate (IRR) values and their statistical significance. [Answer](#Q1)\n",
    "2. Our task is to understand what patterns in V1-V7 to indicate that a promotion should be provided to a user. Specifically, try to maximize the following metrics: [Answer](#Q2)\n",
    "    - Net Incremental Revenue (NIR)\n",
    "    - Incremental Response Rate (IRR)\n",
    "3. If data has  imbalanced problem, fix this issue and show results.[Answer](#Q3)\n",
    "\n",
    "\n",
    "* **Incremental Response Rate (IRR)** \n",
    "\n",
    "IRR depicts how many more customers purchased the product with the promotion, as compared to if they didn't receive the promotion. Mathematically, it's the ratio of the number of purchasers in the promotion group to the total number of customers in the purchasers group (_treatment_) minus the ratio of the number of purchasers in the non-promotional group to the total number of customers in the non-promotional group (_control_).\n",
    "\n",
    "$$ IRR = \\frac{  purch _ { treat } }{ cust _ { treat } } - \\frac{purch_{ctrl}}{cust_{ctrl}} $$\n",
    "\n",
    "\n",
    "* **Net Incremental Revenue (NIR)**\n",
    "\n",
    "NIR depicts how much is made (or lost) by sending out the promotion. Mathematically, this is 10 times the total number of purchasers that received the promotion minus 0.15 times the number of promotions sent out, minus 10 times the number of purchasers who were not given the promotion.\n",
    "\n",
    "$$ NIR = (10\\cdot purch_{treat} - 0.15 \\cdot cust_{treat}) - 10 \\cdot purch_{ctrl}$$\n",
    "\n",
    "For a full description of what Starbucks provides to candidates see the [instructions available here](https://drive.google.com/open?id=18klca9Sef1Rs6q8DW4l7o349r8B70qXM).\n",
    "\n",
    "Below you can find the training data provided.  Explore the data and different optimization strategies.\n",
    "\n",
    "#### How To Test Your Strategy?\n",
    "\n",
    "When you feel like you have an optimization strategy, complete the `promotion_strategy` function to pass to the `test_results` function.  \n",
    "From past data, we know there are four possible outomes:\n",
    "\n",
    "Table of actual promotion vs. predicted promotion customers:  \n",
    "\n",
    "<table>\n",
    "<tr><th></th><th colspan = '2'>Actual</th></tr>\n",
    "<tr><th>Predicted</th><th>Yes</th><th>No</th></tr>\n",
    "<tr><th>Yes</th><td>I</td><td>II</td></tr>\n",
    "<tr><th>No</th><td>III</td><td>IV</td></tr>\n",
    "</table>\n",
    "\n",
    "The metrics are only being compared for the individuals we predict should obtain the promotion – that is, quadrants I and II.  Since the first set of individuals that receive the promotion (in the training set) receive it randomly, we can expect that quadrants I and II will have approximately equivalent participants.  \n",
    "\n",
    "Comparing quadrant I to II then gives an idea of how well your promotion strategy will work in the future. \n",
    "\n",
    "Get started by reading in the data below.  See how each variable or combination of variables along with a promotion influences the chance of purchasing.  When you feel like you have a strategy for who should receive a promotion, test your strategy against the test dataset used in the final `test_results` function."
   ]
  },
  {
   "cell_type": "markdown",
   "metadata": {},
   "source": [
    "---\n",
    "<p style=\"text-align: center;\"><span style=\"font-size: 70px; color: #D7D1C9;\">&#8912;&#8901;&#8913;</span><em></em></p>\n",
    "\n",
    "<a id=\"2\"></a>\n",
    "### 2. Loading of Libraries"
   ]
  },
  {
   "cell_type": "code",
   "execution_count": 1,
   "metadata": {},
   "outputs": [],
   "source": [
    "# load in packages\n",
    "from test_results import test_results, score\n",
    "import numpy as np\n",
    "import pandas as pd\n",
    "import scipy as sp\n",
    "import sklearn as sk\n",
    "from sklearn.ensemble import RandomForestClassifier\n",
    "from sklearn.metrics import confusion_matrix, accuracy_score, classification_report\n",
    "from sklearn import preprocessing\n",
    "\n",
    "import matplotlib.pyplot as plt\n",
    "import seaborn as sns\n",
    "%matplotlib inline"
   ]
  },
  {
   "cell_type": "markdown",
   "metadata": {},
   "source": [
    "---\n",
    "<p style=\"text-align: center;\"><span style=\"font-size: 70px; color: #D7D1C9;\">&#8912;&#8901;&#8913;</span><em></em></p>\n",
    "\n",
    "<a id=\"3\"></a>\n",
    "### 3. Loading and Inspection of Data"
   ]
  },
  {
   "cell_type": "markdown",
   "metadata": {},
   "source": [
    "####  3.1 Loading of Data "
   ]
  },
  {
   "cell_type": "code",
   "execution_count": 2,
   "metadata": {},
   "outputs": [
    {
     "data": {
      "text/html": [
       "<div>\n",
       "<style scoped>\n",
       "    .dataframe tbody tr th:only-of-type {\n",
       "        vertical-align: middle;\n",
       "    }\n",
       "\n",
       "    .dataframe tbody tr th {\n",
       "        vertical-align: top;\n",
       "    }\n",
       "\n",
       "    .dataframe thead th {\n",
       "        text-align: right;\n",
       "    }\n",
       "</style>\n",
       "<table border=\"1\" class=\"dataframe\">\n",
       "  <thead>\n",
       "    <tr style=\"text-align: right;\">\n",
       "      <th></th>\n",
       "      <th>ID</th>\n",
       "      <th>Promotion</th>\n",
       "      <th>purchase</th>\n",
       "      <th>V1</th>\n",
       "      <th>V2</th>\n",
       "      <th>V3</th>\n",
       "      <th>V4</th>\n",
       "      <th>V5</th>\n",
       "      <th>V6</th>\n",
       "      <th>V7</th>\n",
       "    </tr>\n",
       "  </thead>\n",
       "  <tbody>\n",
       "    <tr>\n",
       "      <th>38594</th>\n",
       "      <td>57363</td>\n",
       "      <td>Yes</td>\n",
       "      <td>0</td>\n",
       "      <td>2</td>\n",
       "      <td>30.676251</td>\n",
       "      <td>-1.165083</td>\n",
       "      <td>2</td>\n",
       "      <td>2</td>\n",
       "      <td>1</td>\n",
       "      <td>2</td>\n",
       "    </tr>\n",
       "    <tr>\n",
       "      <th>74117</th>\n",
       "      <td>110617</td>\n",
       "      <td>Yes</td>\n",
       "      <td>0</td>\n",
       "      <td>0</td>\n",
       "      <td>32.386559</td>\n",
       "      <td>-1.597972</td>\n",
       "      <td>2</td>\n",
       "      <td>1</td>\n",
       "      <td>3</td>\n",
       "      <td>1</td>\n",
       "    </tr>\n",
       "    <tr>\n",
       "      <th>11258</th>\n",
       "      <td>16802</td>\n",
       "      <td>Yes</td>\n",
       "      <td>0</td>\n",
       "      <td>2</td>\n",
       "      <td>36.366901</td>\n",
       "      <td>0.047006</td>\n",
       "      <td>2</td>\n",
       "      <td>3</td>\n",
       "      <td>3</td>\n",
       "      <td>2</td>\n",
       "    </tr>\n",
       "    <tr>\n",
       "      <th>33554</th>\n",
       "      <td>49903</td>\n",
       "      <td>Yes</td>\n",
       "      <td>0</td>\n",
       "      <td>1</td>\n",
       "      <td>34.568696</td>\n",
       "      <td>-0.645617</td>\n",
       "      <td>1</td>\n",
       "      <td>3</td>\n",
       "      <td>2</td>\n",
       "      <td>2</td>\n",
       "    </tr>\n",
       "    <tr>\n",
       "      <th>35328</th>\n",
       "      <td>52565</td>\n",
       "      <td>No</td>\n",
       "      <td>0</td>\n",
       "      <td>2</td>\n",
       "      <td>28.121213</td>\n",
       "      <td>-0.991928</td>\n",
       "      <td>1</td>\n",
       "      <td>3</td>\n",
       "      <td>1</td>\n",
       "      <td>2</td>\n",
       "    </tr>\n",
       "    <tr>\n",
       "      <th>11522</th>\n",
       "      <td>17183</td>\n",
       "      <td>Yes</td>\n",
       "      <td>0</td>\n",
       "      <td>1</td>\n",
       "      <td>29.756158</td>\n",
       "      <td>-1.078506</td>\n",
       "      <td>2</td>\n",
       "      <td>2</td>\n",
       "      <td>1</td>\n",
       "      <td>1</td>\n",
       "    </tr>\n",
       "    <tr>\n",
       "      <th>37729</th>\n",
       "      <td>56112</td>\n",
       "      <td>Yes</td>\n",
       "      <td>0</td>\n",
       "      <td>3</td>\n",
       "      <td>32.812321</td>\n",
       "      <td>0.826206</td>\n",
       "      <td>2</td>\n",
       "      <td>2</td>\n",
       "      <td>4</td>\n",
       "      <td>1</td>\n",
       "    </tr>\n",
       "    <tr>\n",
       "      <th>79081</th>\n",
       "      <td>118032</td>\n",
       "      <td>Yes</td>\n",
       "      <td>0</td>\n",
       "      <td>1</td>\n",
       "      <td>34.071632</td>\n",
       "      <td>-1.338239</td>\n",
       "      <td>2</td>\n",
       "      <td>3</td>\n",
       "      <td>1</td>\n",
       "      <td>1</td>\n",
       "    </tr>\n",
       "    <tr>\n",
       "      <th>76845</th>\n",
       "      <td>114707</td>\n",
       "      <td>Yes</td>\n",
       "      <td>0</td>\n",
       "      <td>2</td>\n",
       "      <td>26.049563</td>\n",
       "      <td>0.220161</td>\n",
       "      <td>1</td>\n",
       "      <td>3</td>\n",
       "      <td>3</td>\n",
       "      <td>2</td>\n",
       "    </tr>\n",
       "    <tr>\n",
       "      <th>36653</th>\n",
       "      <td>54549</td>\n",
       "      <td>Yes</td>\n",
       "      <td>0</td>\n",
       "      <td>1</td>\n",
       "      <td>22.947213</td>\n",
       "      <td>-0.299306</td>\n",
       "      <td>2</td>\n",
       "      <td>3</td>\n",
       "      <td>1</td>\n",
       "      <td>1</td>\n",
       "    </tr>\n",
       "  </tbody>\n",
       "</table>\n",
       "</div>"
      ],
      "text/plain": [
       "           ID Promotion  purchase  V1         V2        V3  V4  V5  V6  V7\n",
       "38594   57363       Yes         0   2  30.676251 -1.165083   2   2   1   2\n",
       "74117  110617       Yes         0   0  32.386559 -1.597972   2   1   3   1\n",
       "11258   16802       Yes         0   2  36.366901  0.047006   2   3   3   2\n",
       "33554   49903       Yes         0   1  34.568696 -0.645617   1   3   2   2\n",
       "35328   52565        No         0   2  28.121213 -0.991928   1   3   1   2\n",
       "11522   17183       Yes         0   1  29.756158 -1.078506   2   2   1   1\n",
       "37729   56112       Yes         0   3  32.812321  0.826206   2   2   4   1\n",
       "79081  118032       Yes         0   1  34.071632 -1.338239   2   3   1   1\n",
       "76845  114707       Yes         0   2  26.049563  0.220161   1   3   3   2\n",
       "36653   54549       Yes         0   1  22.947213 -0.299306   2   3   1   1"
      ]
     },
     "execution_count": 2,
     "metadata": {},
     "output_type": "execute_result"
    }
   ],
   "source": [
    "# load in the data\n",
    "train_data = pd.read_csv('./training.csv')\n",
    "train_data.sample(10)"
   ]
  },
  {
   "cell_type": "markdown",
   "metadata": {},
   "source": [
    "#### 3.2 Inspection of Data"
   ]
  },
  {
   "cell_type": "code",
   "execution_count": 3,
   "metadata": {},
   "outputs": [
    {
     "name": "stdout",
     "output_type": "stream",
     "text": [
      "<class 'pandas.core.frame.DataFrame'>\n",
      "RangeIndex: 84534 entries, 0 to 84533\n",
      "Data columns (total 10 columns):\n",
      " #   Column     Non-Null Count  Dtype  \n",
      "---  ------     --------------  -----  \n",
      " 0   ID         84534 non-null  int64  \n",
      " 1   Promotion  84534 non-null  object \n",
      " 2   purchase   84534 non-null  int64  \n",
      " 3   V1         84534 non-null  int64  \n",
      " 4   V2         84534 non-null  float64\n",
      " 5   V3         84534 non-null  float64\n",
      " 6   V4         84534 non-null  int64  \n",
      " 7   V5         84534 non-null  int64  \n",
      " 8   V6         84534 non-null  int64  \n",
      " 9   V7         84534 non-null  int64  \n",
      "dtypes: float64(2), int64(7), object(1)\n",
      "memory usage: 6.4+ MB\n"
     ]
    }
   ],
   "source": [
    "train_data.info()"
   ]
  },
  {
   "cell_type": "code",
   "execution_count": 4,
   "metadata": {},
   "outputs": [
    {
     "name": "stdout",
     "output_type": "stream",
     "text": [
      "In this data set, it has 84534 total records and 10 columns\n"
     ]
    }
   ],
   "source": [
    "# The number of records and columns\n",
    "total_record = train_data.shape[0]\n",
    "column_count = train_data.shape[1]\n",
    "print('In this data set, it has {} total records and {} columns'.format(total_record,column_count))"
   ]
  },
  {
   "cell_type": "markdown",
   "metadata": {},
   "source": [
    "#### 3.3 Counting some of something"
   ]
  },
  {
   "cell_type": "code",
   "execution_count": 5,
   "metadata": {},
   "outputs": [
    {
     "data": {
      "text/html": [
       "<div>\n",
       "<style scoped>\n",
       "    .dataframe tbody tr th:only-of-type {\n",
       "        vertical-align: middle;\n",
       "    }\n",
       "\n",
       "    .dataframe tbody tr th {\n",
       "        vertical-align: top;\n",
       "    }\n",
       "\n",
       "    .dataframe thead th {\n",
       "        text-align: right;\n",
       "    }\n",
       "</style>\n",
       "<table border=\"1\" class=\"dataframe\">\n",
       "  <thead>\n",
       "    <tr style=\"text-align: right;\">\n",
       "      <th></th>\n",
       "      <th>Promotion</th>\n",
       "    </tr>\n",
       "    <tr>\n",
       "      <th>Promotion</th>\n",
       "      <th></th>\n",
       "    </tr>\n",
       "  </thead>\n",
       "  <tbody>\n",
       "    <tr>\n",
       "      <th>No</th>\n",
       "      <td>42170</td>\n",
       "    </tr>\n",
       "    <tr>\n",
       "      <th>Yes</th>\n",
       "      <td>42364</td>\n",
       "    </tr>\n",
       "  </tbody>\n",
       "</table>\n",
       "</div>"
      ],
      "text/plain": [
       "           Promotion\n",
       "Promotion           \n",
       "No             42170\n",
       "Yes            42364"
      ]
     },
     "metadata": {},
     "output_type": "display_data"
    },
    {
     "data": {
      "image/png": "[encoded data removed]",
      "text/plain": [
       "<Figure size 432x288 with 1 Axes>"
      ]
     },
     "metadata": {
      "needs_background": "light"
     },
     "output_type": "display_data"
    }
   ],
   "source": [
    "# Distribution of 'Promotion'\n",
    "#train_data.groupby(by='Promotion')[['Promotion']].count()\n",
    "\n",
    "\n",
    "# Amount of individuals who are and not sent promotion\n",
    "display(train_data.groupby(by='Promotion')[['Promotion']].count())\n",
    "sns.countplot(train_data['Promotion']);"
   ]
  },
  {
   "cell_type": "code",
   "execution_count": 6,
   "metadata": {},
   "outputs": [
    {
     "data": {
      "text/html": [
       "<div>\n",
       "<style scoped>\n",
       "    .dataframe tbody tr th:only-of-type {\n",
       "        vertical-align: middle;\n",
       "    }\n",
       "\n",
       "    .dataframe tbody tr th {\n",
       "        vertical-align: top;\n",
       "    }\n",
       "\n",
       "    .dataframe thead th {\n",
       "        text-align: right;\n",
       "    }\n",
       "</style>\n",
       "<table border=\"1\" class=\"dataframe\">\n",
       "  <thead>\n",
       "    <tr style=\"text-align: right;\">\n",
       "      <th></th>\n",
       "      <th>purchase</th>\n",
       "    </tr>\n",
       "    <tr>\n",
       "      <th>purchase</th>\n",
       "      <th></th>\n",
       "    </tr>\n",
       "  </thead>\n",
       "  <tbody>\n",
       "    <tr>\n",
       "      <th>0</th>\n",
       "      <td>83494</td>\n",
       "    </tr>\n",
       "    <tr>\n",
       "      <th>1</th>\n",
       "      <td>1040</td>\n",
       "    </tr>\n",
       "  </tbody>\n",
       "</table>\n",
       "</div>"
      ],
      "text/plain": [
       "          purchase\n",
       "purchase          \n",
       "0            83494\n",
       "1             1040"
      ]
     },
     "metadata": {},
     "output_type": "display_data"
    },
    {
     "data": {
      "image/png": "[encoded data removed]",
      "text/plain": [
       "<Figure size 432x288 with 1 Axes>"
      ]
     },
     "metadata": {
      "needs_background": "light"
     },
     "output_type": "display_data"
    }
   ],
   "source": [
    "# Distribution of 'Promotion'\n",
    "\n",
    "display(train_data.groupby(by='purchase')[['purchase']].count())\n",
    "sns.countplot('purchase', data = train_data, hue = 'Promotion');"
   ]
  },
  {
   "cell_type": "code",
   "execution_count": 7,
   "metadata": {
    "scrolled": false
   },
   "outputs": [
    {
     "data": {
      "text/html": [
       "<div>\n",
       "<style scoped>\n",
       "    .dataframe tbody tr th:only-of-type {\n",
       "        vertical-align: middle;\n",
       "    }\n",
       "\n",
       "    .dataframe tbody tr th {\n",
       "        vertical-align: top;\n",
       "    }\n",
       "\n",
       "    .dataframe thead th {\n",
       "        text-align: right;\n",
       "    }\n",
       "</style>\n",
       "<table border=\"1\" class=\"dataframe\">\n",
       "  <thead>\n",
       "    <tr style=\"text-align: right;\">\n",
       "      <th></th>\n",
       "      <th></th>\n",
       "      <th>purchase</th>\n",
       "    </tr>\n",
       "    <tr>\n",
       "      <th>Promotion</th>\n",
       "      <th>purchase</th>\n",
       "      <th></th>\n",
       "    </tr>\n",
       "  </thead>\n",
       "  <tbody>\n",
       "    <tr>\n",
       "      <th rowspan=\"2\" valign=\"top\">No</th>\n",
       "      <th>0</th>\n",
       "      <td>41851</td>\n",
       "    </tr>\n",
       "    <tr>\n",
       "      <th>1</th>\n",
       "      <td>319</td>\n",
       "    </tr>\n",
       "    <tr>\n",
       "      <th rowspan=\"2\" valign=\"top\">Yes</th>\n",
       "      <th>0</th>\n",
       "      <td>41643</td>\n",
       "    </tr>\n",
       "    <tr>\n",
       "      <th>1</th>\n",
       "      <td>721</td>\n",
       "    </tr>\n",
       "  </tbody>\n",
       "</table>\n",
       "</div>"
      ],
      "text/plain": [
       "                    purchase\n",
       "Promotion purchase          \n",
       "No        0            41851\n",
       "          1              319\n",
       "Yes       0            41643\n",
       "          1              721"
      ]
     },
     "metadata": {},
     "output_type": "display_data"
    },
    {
     "data": {
      "image/png": "[encoded data removed]",
      "text/plain": [
       "<Figure size 432x288 with 1 Axes>"
      ]
     },
     "metadata": {
      "needs_background": "light"
     },
     "output_type": "display_data"
    }
   ],
   "source": [
    "# Distribution of 'Promotion' by 'purchase' \n",
    "\n",
    "# Amount of individuals who made a purchase with Promotion column as hue\n",
    "purc_data = train_data[train_data.purchase==1]\n",
    "display(train_data.groupby(by=['Promotion','purchase'])[['purchase']].count())\n",
    "sns.countplot(purc_data['Promotion']\n",
    "              ,linewidth=2,edgecolor=sns.color_palette(\"dark\", 3));\n"
   ]
  },
  {
   "cell_type": "code",
   "execution_count": 8,
   "metadata": {},
   "outputs": [
    {
     "data": {
      "image/png": "[encoded data removed]",
      "text/plain": [
       "<Figure size 432x288 with 1 Axes>"
      ]
     },
     "metadata": {
      "needs_background": "light"
     },
     "output_type": "display_data"
    }
   ],
   "source": [
    "sns.countplot('Promotion', data = train_data, hue = 'purchase');"
   ]
  },
  {
   "cell_type": "markdown",
   "metadata": {},
   "source": [
    "---\n",
    "<p style=\"text-align: center;\"><span style=\"font-size: 70px; color: #D7D1C9;\">&#8912;&#8901;&#8913;</span><em></em></p>\n",
    "\n",
    "<a id=\"Q1\"></a>\n",
    "## Solution to Question 1\n",
    "<a id=\"4\"></a>\n",
    "### 4. Calculating of IRR and NIR"
   ]
  },
  {
   "cell_type": "code",
   "execution_count": 9,
   "metadata": {},
   "outputs": [
    {
     "data": {
      "text/html": [
       "<div>\n",
       "<style scoped>\n",
       "    .dataframe tbody tr th:only-of-type {\n",
       "        vertical-align: middle;\n",
       "    }\n",
       "\n",
       "    .dataframe tbody tr th {\n",
       "        vertical-align: top;\n",
       "    }\n",
       "\n",
       "    .dataframe thead th {\n",
       "        text-align: right;\n",
       "    }\n",
       "</style>\n",
       "<table border=\"1\" class=\"dataframe\">\n",
       "  <thead>\n",
       "    <tr style=\"text-align: right;\">\n",
       "      <th></th>\n",
       "      <th>Value</th>\n",
       "    </tr>\n",
       "    <tr>\n",
       "      <th>Name</th>\n",
       "      <th></th>\n",
       "    </tr>\n",
       "  </thead>\n",
       "  <tbody>\n",
       "    <tr>\n",
       "      <th>IRR value</th>\n",
       "      <td>0.00945</td>\n",
       "    </tr>\n",
       "    <tr>\n",
       "      <th>NIR value</th>\n",
       "      <td>-2334.6</td>\n",
       "    </tr>\n",
       "  </tbody>\n",
       "</table>\n",
       "</div>"
      ],
      "text/plain": [
       "             Value\n",
       "Name              \n",
       "IRR value  0.00945\n",
       "NIR value  -2334.6"
      ]
     },
     "execution_count": 9,
     "metadata": {},
     "output_type": "execute_result"
    }
   ],
   "source": [
    "# Calculating of IRR and NIR\n",
    "purc_ctrl = train_data.groupby('Promotion')['purchase'].sum()[0]\n",
    "purc_treat = train_data.groupby('Promotion')['purchase'].sum()[1]\n",
    "cust_treat = train_data['Promotion'].value_counts()[0]\n",
    "cust_ctrl = train_data['Promotion'].value_counts()[1]\n",
    "\n",
    "# Value of IRR\n",
    "IRR_value = (purc_treat / cust_treat) - (purc_ctrl / cust_ctrl)\n",
    "\n",
    "# Value of NIR\n",
    "NIR_value = ((10 * purc_treat) - (0.15 * cust_treat)) - 10 * purc_ctrl\n",
    "\n",
    "# Display of value of IRR and NIR\n",
    "pd.DataFrame(np.array([['IRR value', round(IRR_value,5)], ['NIR value', round(NIR_value,5)]]),\n",
    "                   columns=['Name', 'Value']).set_index('Name')"
   ]
  },
  {
   "cell_type": "markdown",
   "metadata": {},
   "source": [
    "---\n",
    "&#8912;&#8901;&#8901;&#8901;&#8901;&#8913;\n",
    "<br>\n",
    "<a id=\"5\"></a>\n",
    "### 5. Hypothesis Testing Group of Control and Experiment\n",
    "Analysis of number of participants in our **`Control`** and **`Experiment`**."
   ]
  },
  {
   "attachments": {},
   "cell_type": "markdown",
   "metadata": {},
   "source": [
    "Hypothesis:\n",
    "$$H_{0}: E_{participants} = C_{participants}$$\n",
    "$$H_{a}: E_{participants} ≠ C_{participants}$$\n",
    "<br>\n",
    "$$\\alpha = 0.05$$"
   ]
  },
  {
   "cell_type": "markdown",
   "metadata": {},
   "source": [
    "####  5.1 Preparation for the evaluation of the hypothesis."
   ]
  },
  {
   "cell_type": "code",
   "execution_count": 10,
   "metadata": {},
   "outputs": [
    {
     "name": "stdout",
     "output_type": "stream",
     "text": [
      "The number who received the promotion: 42364 and the number who did not: 42170.\n"
     ]
    }
   ],
   "source": [
    "# Checking the number of individuals in each group\n",
    "print(\"The number who received the promotion: {} and the number who did not: {}.\".format(\n",
    "    (train_data.Promotion == \"Yes\").sum(),(train_data.Promotion == \"No\").sum()))\n"
   ]
  },
  {
   "cell_type": "code",
   "execution_count": 12,
   "metadata": {},
   "outputs": [],
   "source": [
    "# Calculating a measurable statistic in the difference of our group sizes\n",
    "promotion_avg = ((train_data.Promotion == \"Yes\").sum())/train_data.shape[0]\n",
    "non_promotion_avg = (train_data.Promotion == \"No\").sum()/train_data.shape[0]\n",
    "sample_difference = promotion_avg - non_promotion_avg\n",
    "\n",
    "print('Average of Promotion     :',promotion_avg)\n",
    "print('Average of Non Promotion :',non_promotion_avg)\n",
    "print('Sample of Difference     :',sample_difference)"
   ]
  },
  {
   "cell_type": "code",
   "execution_count": 14,
   "metadata": {},
   "outputs": [
    {
     "data": {
      "text/plain": [
       "16907"
      ]
     },
     "execution_count": 14,
     "metadata": {},
     "output_type": "execute_result"
    }
   ],
   "source": [
    "# Determination of \"sub sample\" the size for Bootstraping\n",
    "sss = int(round(train_data.shape[0] * 0.2,0))  # Sub Sample Size\n",
    "sss"
   ]
  },
  {
   "cell_type": "code",
   "execution_count": 15,
   "metadata": {},
   "outputs": [],
   "source": [
    "# Bootstraping our differences to get a model of the distribution for our null\n",
    "prom_avg = []\n",
    "non_prom_avg = []\n",
    "differences = []\n",
    "\n",
    "for _ in range(10000):\n",
    "    \n",
    "    sub_sample = train_data.sample(sss, replace=True)\n",
    "    promotion_avg = ((sub_sample.Promotion == \"Yes\").sum())/sub_sample.shape[0]\n",
    "    non_promotion_avg = (sub_sample.Promotion == \"No\").sum()/sub_sample.shape[0]\n",
    "    \n",
    "    prom_avg.append(promotion_avg)\n",
    "    non_prom_avg.append(non_promotion_avg)\n",
    "    differences.append(promotion_avg - non_promotion_avg)"
   ]
  },
  {
   "cell_type": "markdown",
   "metadata": {},
   "source": [
    "####  5.2 Visualization of Computed Sample  Distribution"
   ]
  },
  {
   "cell_type": "code",
   "execution_count": 16,
   "metadata": {},
   "outputs": [
    {
     "data": {
      "image/png": "[encoded data removed]",
      "text/plain": [
       "<Figure size 1296x360 with 3 Axes>"
      ]
     },
     "metadata": {
      "needs_background": "light"
     },
     "output_type": "display_data"
    }
   ],
   "source": [
    "# visualization of our distribution \n",
    "\n",
    "fig, ax = plt.subplots(nrows=1,ncols=3, figsize=(18,5))\n",
    "\n",
    "ax[0].hist(non_prom_avg, bins=30,facecolor='red', alpha=0.5)\n",
    "ax[0].set_title('Average of Non Promotional')\n",
    "ax[0].set_xlabel('No')\n",
    "\n",
    "ax[1].hist(prom_avg, bins=30, facecolor='green', alpha=0.6)\n",
    "ax[1].set_title('Average of Promotion')\n",
    "ax[1].set_xlabel('Yes')\n",
    "\n",
    "ax[2].hist(differences, bins=30, facecolor='blue', alpha=0.4)\n",
    "ax[2].set_title('Differences Between Promotion Groups')\n",
    "ax[2].set_xlabel('Differences')\n",
    "\n",
    "plt.show()"
   ]
  },
  {
   "cell_type": "code",
   "execution_count": 17,
   "metadata": {},
   "outputs": [
    {
     "data": {
      "image/png": "[encoded data removed]",
      "text/plain": [
       "<Figure size 432x360 with 1 Axes>"
      ]
     },
     "metadata": {
      "needs_background": "light"
     },
     "output_type": "display_data"
    }
   ],
   "source": [
    "# distribution of our null hypothesis\n",
    "fig = plt.subplots(nrows=1,ncols=1, figsize=(6,5))\n",
    "null_vals = np.random.normal(0, np.std(differences), 10000)\n",
    "plt.hist(null_vals, bins=50, facecolor='blue', alpha=0.4)\n",
    "plt.axvline(sample_difference, color='b', label =\"Observed Statistic\")\n",
    "plt.legend(loc='upper right')\n",
    "plt.title(\"Normal Distribution under the Null Hypothesis\");"
   ]
  },
  {
   "cell_type": "markdown",
   "metadata": {},
   "source": [
    "#### 5.3 Evolation of P value"
   ]
  },
  {
   "cell_type": "code",
   "execution_count": 18,
   "metadata": {},
   "outputs": [
    {
     "data": {
      "text/plain": [
       "0.6176"
      ]
     },
     "execution_count": 18,
     "metadata": {},
     "output_type": "execute_result"
    }
   ],
   "source": [
    "# Determining the signifigance of our result \n",
    "p_val = (sample_difference>null_vals).mean()\n",
    "p_val"
   ]
  },
  {
   "cell_type": "markdown",
   "metadata": {},
   "source": [
    "#### 5.4 Conclusion of Hypothesis"
   ]
  },
  {
   "attachments": {},
   "cell_type": "markdown",
   "metadata": {},
   "source": [
    "Computed **`P value`** (` p_val=0.6176 > ⍺=0.05 `)is well within our confidence interval and therefore **we fail to reject the H0-null hypothesis**. This implies that there is no statistical signifigance in the difference of our sampling populations. **It's not surprising.** Obviously, we did not find any different results from what we saw when we first began to study the data."
   ]
  },
  {
   "cell_type": "markdown",
   "metadata": {},
   "source": [
    "---\n",
    "&#8912;&#8901;&#8901;&#8901;&#8901;&#8913;\n",
    "<br>\n",
    "<a id=\"Q2\"></a>\n",
    "## Solution to Question 2\n",
    "<a id=\"6\"></a>\n",
    "### 6. Hypothesis Testing for NIR Value\n",
    "Analysis of statisticaly of **`N I R`** value. Below, it determine if the experiment had a positive effect on the `N I R` metric.\n",
    "<br>\n",
    "Hypothesis:\n",
    "$$H_{0}:Net Incremental Revenue = 0$$\n",
    "$$H_{a}:Net Incremental Revenue > 0$$\n",
    "$$\\alpha = 0.05$$\n",
    "Our *Alpha value* with the Bonferroni Correction:\n",
    "$$Bonferroni Correction = \\frac{\\alpha}{number-of-measures} = 0.025$$\n",
    "\n",
    "Where: \n",
    "\n",
    "$$ NIR = (10\\cdot purch_{treat} - 0.15 \\cdot cust_{treat}) - 10 \\cdot purch_{ctrl}$$"
   ]
  },
  {
   "cell_type": "markdown",
   "metadata": {},
   "source": [
    "#### 6.1 Preparation for the evaluation of the hypothesis."
   ]
  },
  {
   "cell_type": "code",
   "execution_count": 19,
   "metadata": {},
   "outputs": [
    {
     "data": {
      "text/plain": [
       "-2334.5999999999995"
      ]
     },
     "execution_count": 19,
     "metadata": {},
     "output_type": "execute_result"
    }
   ],
   "source": [
    "# Finding our observed statistic \n",
    "purchase_treatment = train_data[train_data['Promotion'] == \"Yes\"].purchase.sum()\n",
    "customer_treatment = train_data[train_data['Promotion'] == \"Yes\"].shape[0]\n",
    "purchase_control = train_data[train_data['Promotion'] == \"No\"].purchase.sum()\n",
    "NIR = ((10 * purchase_treatment) - (0.15 * customer_treatment)) - (10 * purchase_control)\n",
    "NIR"
   ]
  },
  {
   "cell_type": "code",
   "execution_count": 20,
   "metadata": {},
   "outputs": [],
   "source": [
    "# Bootstraping our differences to get a model of the distribution for our null\n",
    "NIRs = []\n",
    "for _ in range(10000):\n",
    "    sub_sample = train_data.sample(sss, replace=True)\n",
    "    purchase_treatment = sub_sample[sub_sample['Promotion'] == \"Yes\"].purchase.sum()\n",
    "    customer_treatment = sub_sample[sub_sample['Promotion'] == \"Yes\"].shape[0]\n",
    "    purchase_control = sub_sample[sub_sample['Promotion'] == \"No\"].purchase.sum()\n",
    "    NIRs.append(((10 * purchase_treatment) - (0.15 * customer_treatment)) - (10 * purchase_control))"
   ]
  },
  {
   "cell_type": "markdown",
   "metadata": {},
   "source": [
    "####  6.2 Visualization of Computed NIR value"
   ]
  },
  {
   "cell_type": "code",
   "execution_count": 21,
   "metadata": {},
   "outputs": [
    {
     "data": {
      "image/png": "[encoded data removed]",
      "text/plain": [
       "<Figure size 432x288 with 1 Axes>"
      ]
     },
     "metadata": {
      "needs_background": "light"
     },
     "output_type": "display_data"
    }
   ],
   "source": [
    "# distribution of our null hypothesis\n",
    "null_NIRs = np.random.normal(0, np.std(NIRs), 10000)\n",
    "plt.hist(null_NIRs, bins=60)\n",
    "plt.title(\"Normal Distribution under the Null Hypothesis\");"
   ]
  },
  {
   "cell_type": "code",
   "execution_count": 22,
   "metadata": {},
   "outputs": [
    {
     "data": {
      "image/png": "[encoded data removed]",
      "text/plain": [
       "<Figure size 432x288 with 1 Axes>"
      ]
     },
     "metadata": {
      "needs_background": "light"
     },
     "output_type": "display_data"
    }
   ],
   "source": [
    "# Plotting under the null\n",
    "abc = sss/train_data.shape[0]\n",
    "plt.axvline(NIR * abc, color='r', label =\"Observed Statistic\")\n",
    "null_NIRs = np.random.normal(sum(NIRs)/sss, np.std(NIRs), 10000)\n",
    "plt.hist(null_NIRs, bins=60)\n",
    "plt.title(\"Normal Distribution under the Null Hypothesis\")\n",
    "plt.legend();"
   ]
  },
  {
   "cell_type": "markdown",
   "metadata": {},
   "source": [
    "##### 6.3 Evolation of P value"
   ]
  },
  {
   "cell_type": "code",
   "execution_count": 23,
   "metadata": {},
   "outputs": [
    {
     "data": {
      "text/plain": [
       "0.0889"
      ]
     },
     "execution_count": 23,
     "metadata": {},
     "output_type": "execute_result"
    }
   ],
   "source": [
    "# Checking the signifigane is 0\n",
    "p_val_NIR = (NIR * abc > null_NIRs).mean()\n",
    "p_val_NIR"
   ]
  },
  {
   "cell_type": "code",
   "execution_count": 24,
   "metadata": {},
   "outputs": [
    {
     "data": {
      "text/plain": [
       "0.9111"
      ]
     },
     "execution_count": 24,
     "metadata": {},
     "output_type": "execute_result"
    }
   ],
   "source": [
    "# Curious check to ensure all the data under the null lies above our observed statistic\n",
    "p_val2_NIR = (NIR * abc <null_NIRs).mean()\n",
    "p_val2_NIR"
   ]
  },
  {
   "cell_type": "code",
   "execution_count": 25,
   "metadata": {},
   "outputs": [
    {
     "data": {
      "text/plain": [
       "0.0889"
      ]
     },
     "execution_count": 25,
     "metadata": {},
     "output_type": "execute_result"
    }
   ],
   "source": [
    "# Curious check to ensure all the data under the null lies above our observed statistic\n",
    "p_val3_NIR = ((NIR / train_data.shape[0]) > (null_NIRs / sss)).mean()\n",
    "p_val3_NIR"
   ]
  },
  {
   "cell_type": "code",
   "execution_count": 26,
   "metadata": {},
   "outputs": [
    {
     "data": {
      "text/plain": [
       "143.13100045392255"
      ]
     },
     "execution_count": 26,
     "metadata": {},
     "output_type": "execute_result"
    }
   ],
   "source": [
    "np.std(NIRs)"
   ]
  },
  {
   "cell_type": "code",
   "execution_count": 27,
   "metadata": {},
   "outputs": [
    {
     "name": "stdout",
     "output_type": "stream",
     "text": [
      "-0.02761729008446305\n",
      "[-0.01111225 -0.01339984 -0.01569449 -0.00675264 -0.01065468  0.00138447\n",
      " -0.00522658 -0.00963203 -0.01436512 -0.01370165]\n"
     ]
    }
   ],
   "source": [
    "print((NIR/train_data.shape[0]))\n",
    "print(null_NIRs[:10]/sss)"
   ]
  },
  {
   "cell_type": "markdown",
   "metadata": {},
   "source": [
    "#### 6.4 Conclusion of Hypothesis\n",
    "Our **`P value`** (` p_val_NIR=0.0952 > ⍺=0.05 `) is well below our confidence interval and therefore we **fail to reject our null hypothesis**. This implies that there is no statistical signifigant increase in NIR (what we want to optimise). However, our data indicates we signifigantly REDUCED the NIR with this campaign. Not what we want...\n"
   ]
  },
  {
   "cell_type": "markdown",
   "metadata": {},
   "source": [
    "---\n",
    "&#8912;&#8901;&#8901;&#8901;&#8901;&#8913;\n",
    "<br>\n",
    "<a id=\"7\"></a>\n",
    "### 7. Hypothesis Testing for IRR Value\n",
    "Analysis of statisticaly of **`I I R`** values. Below, it shall determine if the experiment had a positive effect on the `I I R` metric. \n",
    "Hypothesis:\n",
    "$$H_{0}:Incremental Response Rate = 0$$\n",
    "$$H_{a}:Incremental Response Rate > 0$$\n",
    "$$\\alpha = 0.025$$\n",
    "\n",
    "Where:\n",
    "$$ IRR = \\frac{purch_{treat}}{cust_{treat}} - \\frac{purch_{ctrl}}{cust_{ctrl}} $$"
   ]
  },
  {
   "cell_type": "markdown",
   "metadata": {},
   "source": [
    "#### 7.1 Preparation for the evaluation of the hypothesis."
   ]
  },
  {
   "cell_type": "code",
   "execution_count": 28,
   "metadata": {},
   "outputs": [
    {
     "data": {
      "text/plain": [
       "0.009454547819772702"
      ]
     },
     "execution_count": 28,
     "metadata": {},
     "output_type": "execute_result"
    }
   ],
   "source": [
    "# Finding our observed statistic \n",
    "purchase_treatment = train_data[train_data['Promotion'] == \"Yes\"].purchase.sum()\n",
    "customer_treatment = train_data[train_data['Promotion'] == \"Yes\"].shape[0]\n",
    "purchase_control = train_data[train_data['Promotion'] == \"No\"].purchase.sum()\n",
    "customer_control = train_data[train_data['Promotion'] == \"No\"].shape[0]\n",
    "IRR = purchase_treatment/customer_treatment - purchase_control/customer_control\n",
    "IRR"
   ]
  },
  {
   "cell_type": "code",
   "execution_count": 29,
   "metadata": {},
   "outputs": [],
   "source": [
    "# Bootstraping our differences to get a model of the distribution for our null\n",
    "sub_sample_size = 5000\n",
    "IRRs = []\n",
    "for _ in range(10000):\n",
    "    bootsample2 = train_data.sample(sub_sample_size, replace=True)\n",
    "    purchase_treatment = bootsample2[bootsample2['Promotion'] == \"Yes\"].purchase.sum()\n",
    "    customer_treatment = bootsample2[bootsample2['Promotion'] == \"Yes\"].shape[0]\n",
    "    purchase_control = bootsample2[bootsample2['Promotion'] == \"No\"].purchase.sum()\n",
    "    customer_control = bootsample2[bootsample2['Promotion'] == \"No\"].shape[0]\n",
    "    IRR_boot = purchase_treatment/customer_treatment - purchase_control/customer_control\n",
    "    IRRs.append(IRR_boot)"
   ]
  },
  {
   "cell_type": "markdown",
   "metadata": {},
   "source": [
    "##### 7.2 Visualization of Computed IRR value"
   ]
  },
  {
   "cell_type": "code",
   "execution_count": 30,
   "metadata": {},
   "outputs": [
    {
     "data": {
      "image/png": "[encoded data removed]",
      "text/plain": [
       "<Figure size 432x288 with 1 Axes>"
      ]
     },
     "metadata": {
      "needs_background": "light"
     },
     "output_type": "display_data"
    }
   ],
   "source": [
    "# distribution of our null hypothesis\n",
    "null_IRRs = np.random.normal(sum(IRRs)/sub_sample_size, np.std(IRRs), 10000)\n",
    "plt.hist(null_vals, bins=60)\n",
    "plt.title(\"Normal Distribution under the Null Hypothesis\");"
   ]
  },
  {
   "cell_type": "code",
   "execution_count": 31,
   "metadata": {},
   "outputs": [
    {
     "data": {
      "image/png": "[encoded data removed]",
      "text/plain": [
       "<Figure size 432x288 with 1 Axes>"
      ]
     },
     "metadata": {
      "needs_background": "light"
     },
     "output_type": "display_data"
    }
   ],
   "source": [
    "# Reviewing our observed statistic against the bootstrapped sample\n",
    "plt.axvline((IRR * abc ), color='r', label =\"Observed Statistic\")\n",
    "null_IRRs = np.random.normal(sum(IRRs)/sss, np.std(IRRs), 10000)\n",
    "plt.hist(null_IRRs, bins=60)\n",
    "plt.title(\"Normal Distribution under the Null Hypothesis\")\n",
    "plt.legend();"
   ]
  },
  {
   "cell_type": "markdown",
   "metadata": {},
   "source": [
    "##### 7.3 Evolation of P value"
   ]
  },
  {
   "cell_type": "code",
   "execution_count": 32,
   "metadata": {},
   "outputs": [
    {
     "data": {
      "text/plain": [
       "0.8905"
      ]
     },
     "execution_count": 32,
     "metadata": {},
     "output_type": "execute_result"
    }
   ],
   "source": [
    "# Calculating the signifigance of this result \n",
    "p_val_IRR = (IRR > null_IRRs).mean()\n",
    "p_val_IRR"
   ]
  },
  {
   "cell_type": "code",
   "execution_count": 33,
   "metadata": {},
   "outputs": [
    {
     "data": {
      "text/plain": [
       "0.0031043029076664487"
      ]
     },
     "execution_count": 33,
     "metadata": {},
     "output_type": "execute_result"
    }
   ],
   "source": [
    "np.std(IRRs)"
   ]
  },
  {
   "cell_type": "markdown",
   "metadata": {},
   "source": [
    "##### 7.4 Conclusion of Hypothesis"
   ]
  },
  {
   "cell_type": "markdown",
   "metadata": {},
   "source": [
    "Our **`P value`** (` p_val_IIR=0.8962 > ⍺=0.05 `)is well above our null distribution and therefore **we reject the H0-null hypothesis.** This implies that there is a statistical increase in IRR between our control and experiemental group. So, we can see that our campaign does have a positive affect on the number of customers who purchased the product with the promotion, as compared to if they didn't receive the promotion."
   ]
  },
  {
   "cell_type": "markdown",
   "metadata": {},
   "source": [
    "---\n",
    "&#8912;&#8901;&#8901;&#8901;&#8901;&#8901;&#8901;&#8901;&#8913;\n",
    "<br>\n",
    "<a id=\"7\"></a>\n",
    "### 7. Model Creation"
   ]
  },
  {
   "cell_type": "markdown",
   "metadata": {},
   "source": [
    "Here we shall a model that can accuractely predict if a customer will be responsive to the campaign."
   ]
  },
  {
   "cell_type": "markdown",
   "metadata": {},
   "source": [
    "#### 7.1 Preparation for Model"
   ]
  },
  {
   "cell_type": "code",
   "execution_count": 34,
   "metadata": {},
   "outputs": [
    {
     "data": {
      "text/plain": [
       "Promotion\n",
       "No     319\n",
       "Yes    721\n",
       "Name: purchase, dtype: int64"
      ]
     },
     "execution_count": 34,
     "metadata": {},
     "output_type": "execute_result"
    }
   ],
   "source": [
    "# Reviewing the number of individuals who purchased products in both the control and experiment condition \n",
    "train_data.groupby('Promotion').purchase.sum()"
   ]
  },
  {
   "cell_type": "code",
   "execution_count": 36,
   "metadata": {},
   "outputs": [
    {
     "data": {
      "text/html": [
       "<div>\n",
       "<style scoped>\n",
       "    .dataframe tbody tr th:only-of-type {\n",
       "        vertical-align: middle;\n",
       "    }\n",
       "\n",
       "    .dataframe tbody tr th {\n",
       "        vertical-align: top;\n",
       "    }\n",
       "\n",
       "    .dataframe thead th {\n",
       "        text-align: right;\n",
       "    }\n",
       "</style>\n",
       "<table border=\"1\" class=\"dataframe\">\n",
       "  <thead>\n",
       "    <tr style=\"text-align: right;\">\n",
       "      <th></th>\n",
       "      <th>purchase</th>\n",
       "      <th>V1</th>\n",
       "      <th>V2</th>\n",
       "      <th>V3</th>\n",
       "      <th>V4</th>\n",
       "      <th>V5</th>\n",
       "      <th>V6</th>\n",
       "      <th>V7</th>\n",
       "    </tr>\n",
       "  </thead>\n",
       "  <tbody>\n",
       "    <tr>\n",
       "      <th>4</th>\n",
       "      <td>0</td>\n",
       "      <td>3</td>\n",
       "      <td>28.044332</td>\n",
       "      <td>-0.385883</td>\n",
       "      <td>1</td>\n",
       "      <td>1</td>\n",
       "      <td>2</td>\n",
       "      <td>2</td>\n",
       "    </tr>\n",
       "    <tr>\n",
       "      <th>8</th>\n",
       "      <td>0</td>\n",
       "      <td>2</td>\n",
       "      <td>31.930423</td>\n",
       "      <td>0.393317</td>\n",
       "      <td>2</td>\n",
       "      <td>3</td>\n",
       "      <td>1</td>\n",
       "      <td>2</td>\n",
       "    </tr>\n",
       "    <tr>\n",
       "      <th>10</th>\n",
       "      <td>0</td>\n",
       "      <td>1</td>\n",
       "      <td>32.770916</td>\n",
       "      <td>-1.511395</td>\n",
       "      <td>2</td>\n",
       "      <td>1</td>\n",
       "      <td>4</td>\n",
       "      <td>1</td>\n",
       "    </tr>\n",
       "    <tr>\n",
       "      <th>12</th>\n",
       "      <td>0</td>\n",
       "      <td>1</td>\n",
       "      <td>36.957009</td>\n",
       "      <td>0.133583</td>\n",
       "      <td>2</td>\n",
       "      <td>3</td>\n",
       "      <td>1</td>\n",
       "      <td>1</td>\n",
       "    </tr>\n",
       "    <tr>\n",
       "      <th>14</th>\n",
       "      <td>0</td>\n",
       "      <td>3</td>\n",
       "      <td>36.911714</td>\n",
       "      <td>-0.905350</td>\n",
       "      <td>2</td>\n",
       "      <td>2</td>\n",
       "      <td>4</td>\n",
       "      <td>1</td>\n",
       "    </tr>\n",
       "  </tbody>\n",
       "</table>\n",
       "</div>"
      ],
      "text/plain": [
       "    purchase  V1         V2        V3  V4  V5  V6  V7\n",
       "4          0   3  28.044332 -0.385883   1   1   2   2\n",
       "8          0   2  31.930423  0.393317   2   3   1   2\n",
       "10         0   1  32.770916 -1.511395   2   1   4   1\n",
       "12         0   1  36.957009  0.133583   2   3   1   1\n",
       "14         0   3  36.911714 -0.905350   2   2   4   1"
      ]
     },
     "execution_count": 36,
     "metadata": {},
     "output_type": "execute_result"
    }
   ],
   "source": [
    "# Loading in our test data \n",
    "test_data = pd.read_csv('test.csv')\n",
    "\n",
    "# Tailoring the test data to test our model \n",
    "data_exp_test = test_data.copy()\n",
    "data_exp_test = data_exp_test[data_exp_test['Promotion']==\"Yes\"]\n",
    "data_exp_test.drop(['ID','Promotion'], axis = 1, inplace=True)\n",
    "#X_test = data_exp_test.drop(['purchase'],axis=1)\n",
    "#y_test = data_exp_test.purchase.values\n",
    "\n",
    "\n",
    "\n",
    "# Copying the dataframe over \n",
    "data_exp = train_data.copy()\n",
    "# only considering the experiment group for our model training \n",
    "data_exp = data_exp[data_exp['Promotion']==\"Yes\"]\n",
    "# Dropping the irrelavant columns \n",
    "data_exp.drop(['ID','Promotion'], axis = 1, inplace=True)\n",
    "\n",
    "\n",
    "df = pd.concat([data_exp,data_exp_test])\n",
    "df.head()"
   ]
  },
  {
   "cell_type": "code",
   "execution_count": 37,
   "metadata": {},
   "outputs": [],
   "source": [
    "# Splitting our data into predictors and target variables\n",
    "X = df.drop(['purchase'],axis=1)\n",
    "y = df.purchase"
   ]
  },
  {
   "cell_type": "markdown",
   "metadata": {},
   "source": [
    "#### 8.2 Scaling of  Features"
   ]
  },
  {
   "cell_type": "code",
   "execution_count": 38,
   "metadata": {},
   "outputs": [],
   "source": [
    "# Scaling our inputs \n",
    "min_max_scaler = preprocessing.MinMaxScaler()\n",
    "X = min_max_scaler.fit_transform(X)"
   ]
  },
  {
   "cell_type": "markdown",
   "metadata": {},
   "source": [
    "#### 8.3 Splitting of Data"
   ]
  },
  {
   "cell_type": "code",
   "execution_count": 39,
   "metadata": {},
   "outputs": [],
   "source": [
    "from sklearn.model_selection import train_test_split\n",
    "X_train, X_test, y_train, y_test = train_test_split(X, y, test_size=0.33, random_state=42)"
   ]
  },
  {
   "cell_type": "markdown",
   "metadata": {},
   "source": [
    "#### 8.4 Fitting of Data"
   ]
  },
  {
   "cell_type": "code",
   "execution_count": 40,
   "metadata": {},
   "outputs": [
    {
     "data": {
      "text/plain": [
       "RandomForestClassifier(bootstrap=True, ccp_alpha=0.0, class_weight=None,\n",
       "                       criterion='gini', max_depth=None, max_features='auto',\n",
       "                       max_leaf_nodes=None, max_samples=None,\n",
       "                       min_impurity_decrease=0.0, min_impurity_split=None,\n",
       "                       min_samples_leaf=1, min_samples_split=2,\n",
       "                       min_weight_fraction_leaf=0.0, n_estimators=100,\n",
       "                       n_jobs=None, oob_score=False, random_state=None,\n",
       "                       verbose=0, warm_start=False)"
      ]
     },
     "execution_count": 40,
     "metadata": {},
     "output_type": "execute_result"
    }
   ],
   "source": [
    "# Instantiating our model and fitting it\n",
    "clf = RandomForestClassifier(n_estimators=100)\n",
    "clf.fit(X_train,y_train)"
   ]
  },
  {
   "cell_type": "markdown",
   "metadata": {},
   "source": [
    "#### 8.5 Prediction, Accuruty and Confution Matrix"
   ]
  },
  {
   "cell_type": "code",
   "execution_count": 41,
   "metadata": {},
   "outputs": [],
   "source": [
    "# Predicting our target values\n",
    "y_pred = clf.predict(X_test)"
   ]
  },
  {
   "cell_type": "code",
   "execution_count": 42,
   "metadata": {},
   "outputs": [
    {
     "name": "stdout",
     "output_type": "stream",
     "text": [
      "Our accuracy for the random forest model was 0.98127%\n"
     ]
    }
   ],
   "source": [
    "# Checking our accuracy for the model \n",
    "accuracy = (y_pred == y_test).mean()\n",
    "print(\"Our accuracy for the random forest model was {0:.5f}%\".format(accuracy))"
   ]
  },
  {
   "cell_type": "code",
   "execution_count": 43,
   "metadata": {},
   "outputs": [
    {
     "data": {
      "text/plain": [
       "99.98366107576634"
      ]
     },
     "execution_count": 43,
     "metadata": {},
     "output_type": "execute_result"
    }
   ],
   "source": [
    "#test_data.groupby('Promotion','purchase')\n",
    "\n",
    "100-data_exp_test.purchase.value_counts()[1]/data_exp_test.shape[0]"
   ]
  },
  {
   "cell_type": "code",
   "execution_count": 44,
   "metadata": {},
   "outputs": [
    {
     "name": "stdout",
     "output_type": "stream",
     "text": [
      "              precision    recall  f1-score   support\n",
      "\n",
      "           0       0.98      1.00      0.99     20461\n",
      "           1       0.00      0.00      0.00       366\n",
      "\n",
      "    accuracy                           0.98     20827\n",
      "   macro avg       0.49      0.50      0.50     20827\n",
      "weighted avg       0.97      0.98      0.97     20827\n",
      "\n",
      "0.9812743073894464\n"
     ]
    },
    {
     "data": {
      "image/png": "[encoded data removed]",
      "text/plain": [
       "<Figure size 432x288 with 2 Axes>"
      ]
     },
     "metadata": {
      "needs_background": "light"
     },
     "output_type": "display_data"
    }
   ],
   "source": [
    "cm = confusion_matrix(y_test, y_pred)\n",
    "ac = accuracy_score(y_test, y_pred)\n",
    "cr = classification_report(y_test, y_pred)\n",
    "print(cr)\n",
    "print(ac)\n",
    "sns.heatmap(cm, annot=True);\n"
   ]
  },
  {
   "cell_type": "markdown",
   "metadata": {},
   "source": [
    "#### 8.6 Converting to YES-NO"
   ]
  },
  {
   "cell_type": "code",
   "execution_count": 45,
   "metadata": {},
   "outputs": [],
   "source": [
    "# Converting our numeric outputs to Yes/No's \n",
    "promotion_yes_no = []\n",
    "for value in y_pred:\n",
    "    if value == 0:\n",
    "        promotion_yes_no.append(\"No\")\n",
    "    if value == 1:\n",
    "        promotion_yes_no.append(\"Yes\")\n",
    "    "
   ]
  },
  {
   "cell_type": "code",
   "execution_count": 46,
   "metadata": {},
   "outputs": [
    {
     "data": {
      "text/plain": [
       "array(['No', 'No', 'No', ..., 'No', 'No', 'No'], dtype='<U3')"
      ]
     },
     "execution_count": 46,
     "metadata": {},
     "output_type": "execute_result"
    }
   ],
   "source": [
    "# Converting to a NumPy Array \n",
    "np.asarray(promotion_yes_no)"
   ]
  },
  {
   "cell_type": "markdown",
   "metadata": {},
   "source": [
    "#### 8.7 Testing Promotion Strategy"
   ]
  },
  {
   "cell_type": "code",
   "execution_count": 47,
   "metadata": {},
   "outputs": [],
   "source": [
    "# Creating the function to pass to our test_results function\n",
    "def promotion_strategy(df):\n",
    "    '''\n",
    "    INPUT \n",
    "    df - a dataframe with *only* the columns V1 - V7 (same as train_data)\n",
    "\n",
    "    OUTPUT\n",
    "    promotion_df - np.array with the values\n",
    "                   'Yes' or 'No' related to whether or not an \n",
    "                   individual should recieve a promotion \n",
    "                   should be the length of df.shape[0]\n",
    "                \n",
    "    Ex:\n",
    "    INPUT: df\n",
    "    \n",
    "    V1\tV2\t  V3\tV4\tV5\tV6\tV7\n",
    "    2\t30\t-1.1\t1\t1\t3\t2\n",
    "    3\t32\t-0.6\t2\t3\t2\t2\n",
    "    2\t30\t0.13\t1\t1\t4\t2\n",
    "    \n",
    "    OUTPUT: promotion\n",
    "    \n",
    "    array(['Yes', 'Yes', 'No'])\n",
    "    indicating the first two users would recieve the promotion and \n",
    "    the last should not.\n",
    "    '''\n",
    "    df = min_max_scaler.fit_transform(df)\n",
    "    \n",
    "    y_pred = clf.predict(df)\n",
    "    \n",
    "    promotion_yes_no = []\n",
    "    for value in y_pred:\n",
    "        if value == 0:\n",
    "            promotion_yes_no.append(\"No\")\n",
    "        if value == 1:\n",
    "            promotion_yes_no.append(\"Yes\")\n",
    "            \n",
    "    promotion = np.asarray(promotion_yes_no)\n",
    "        \n",
    "    return promotion"
   ]
  },
  {
   "cell_type": "code",
   "execution_count": 48,
   "metadata": {},
   "outputs": [
    {
     "name": "stdout",
     "output_type": "stream",
     "text": [
      "Nice job!  See how well your strategy worked on our test data below!\n",
      "\n",
      "Your irr with this strategy is 0.0667.\n",
      "\n",
      "Your nir with this strategy is 7.75.\n",
      "We came up with a model with an irr of 0.0188 and an nir of 189.45 on the test set.\n",
      "\n",
      " How did you do?\n"
     ]
    },
    {
     "data": {
      "text/plain": [
       "(0.06666666666666667, 7.75)"
      ]
     },
     "execution_count": 48,
     "metadata": {},
     "output_type": "execute_result"
    }
   ],
   "source": [
    "# This will test our results, and provide you back some information \n",
    "# on how well your promotion_strategy will work in practice\n",
    "\n",
    "test_results(promotion_strategy)"
   ]
  },
  {
   "cell_type": "markdown",
   "metadata": {},
   "source": [
    "#### Model Conclusion\n",
    "\n",
    "Ha! So, we managed to get a better IRR but a signifigantly worse nir than the experts over at Udacity... Regardless, we still managed a signifigantly better approach than what we had observed with the experiment. \n",
    "\n",
    "Our confusion matrix indidcated that our accuracy is only hindered by a small number of false negatives. Prehaps if we had a less conservative model we may see a **higher NIR** rate. Allowing for a higher number of false positives may actually improve our NIR metric at the cost of our IRR. \n",
    "\n",
    "So to recap, \n",
    "- We trained our model on only those individuals in the experiment (i.e. they were offered the promotion)\n",
    "- Our model would than predict whether or not the individuals would purchase from the promotion offer based on the predicitor variables\n",
    "- We than tested our models NIR and IRR metrics using a local python script.\n",
    "\n"
   ]
  },
  {
   "cell_type": "markdown",
   "metadata": {},
   "source": [
    "<a id=\"Q3\"></a>\n",
    "## Solution to Question 3"
   ]
  },
  {
   "cell_type": "markdown",
   "metadata": {},
   "source": [
    "##### 8.7 Solution to  Imbalance Problem"
   ]
  },
  {
   "cell_type": "code",
   "execution_count": 49,
   "metadata": {},
   "outputs": [
    {
     "name": "stdout",
     "output_type": "stream",
     "text": [
      "[0.02148776 0.14493856 0.14121021 0.46268247 0.17439242 0.04065171\n",
      " 0.01463687]\n"
     ]
    }
   ],
   "source": [
    "from imblearn.ensemble import BalancedRandomForestClassifier\n",
    "\n",
    "BRFC = BalancedRandomForestClassifier(max_depth=2, random_state=0)\n",
    "BRFC.fit(X_train, y_train)\n",
    "print(BRFC.feature_importances_)\n",
    "#print(BRFC.predict([[0, 0, 0, 0, 0, 0, 0, 0, 0, 0,0, 0, 0, 0, 0, 0, 0, 0, 0, 0]]))"
   ]
  },
  {
   "cell_type": "code",
   "execution_count": 50,
   "metadata": {},
   "outputs": [],
   "source": [
    "y_pred_BRFC = BRFC.predict(X_test)"
   ]
  },
  {
   "cell_type": "code",
   "execution_count": 51,
   "metadata": {},
   "outputs": [
    {
     "name": "stdout",
     "output_type": "stream",
     "text": [
      "              precision    recall  f1-score   support\n",
      "\n",
      "           0       0.99      0.36      0.53     20461\n",
      "           1       0.02      0.83      0.04       366\n",
      "\n",
      "    accuracy                           0.37     20827\n",
      "   macro avg       0.51      0.59      0.29     20827\n",
      "weighted avg       0.97      0.37      0.52     20827\n",
      "\n",
      "0.3728813559322034\n"
     ]
    },
    {
     "data": {
      "image/png": "[encoded data removed]",
      "text/plain": [
       "<Figure size 432x288 with 2 Axes>"
      ]
     },
     "metadata": {
      "needs_background": "light"
     },
     "output_type": "display_data"
    }
   ],
   "source": [
    "cm_BRFC = confusion_matrix(y_test, y_pred_BRFC)\n",
    "ac_BRFC = accuracy_score(y_test, y_pred_BRFC)\n",
    "cr_BRFC = classification_report(y_test, y_pred_BRFC)\n",
    "print(cr_BRFC)\n",
    "print(ac_BRFC)\n",
    "sns.heatmap(cm_BRFC, annot=True);"
   ]
  },
  {
   "cell_type": "code",
   "execution_count": 52,
   "metadata": {},
   "outputs": [
    {
     "data": {
      "text/plain": [
       "array([[ 7464, 12997],\n",
       "       [   64,   302]], dtype=int64)"
      ]
     },
     "execution_count": 52,
     "metadata": {},
     "output_type": "execute_result"
    }
   ],
   "source": [
    "cm_BRFC"
   ]
  },
  {
   "cell_type": "code",
   "execution_count": 53,
   "metadata": {},
   "outputs": [
    {
     "data": {
      "text/plain": [
       "array([[20437,    24],\n",
       "       [  366,     0]], dtype=int64)"
      ]
     },
     "execution_count": 53,
     "metadata": {},
     "output_type": "execute_result"
    }
   ],
   "source": [
    "cm"
   ]
  },
  {
   "cell_type": "code",
   "execution_count": 54,
   "metadata": {},
   "outputs": [],
   "source": [
    "# Creating the function to pass to our test_results function\n",
    "def promotion_strategy(df):\n",
    "    '''\n",
    "    INPUT \n",
    "    df - a dataframe with *only* the columns V1 - V7 (same as train_data)\n",
    "\n",
    "    OUTPUT\n",
    "    promotion_df - np.array with the values\n",
    "                   'Yes' or 'No' related to whether or not an \n",
    "                   individual should recieve a promotion \n",
    "                   should be the length of df.shape[0]\n",
    "                \n",
    "    Ex:\n",
    "    INPUT: df\n",
    "    \n",
    "    V1\tV2\t  V3\tV4\tV5\tV6\tV7\n",
    "    2\t30\t-1.1\t1\t1\t3\t2\n",
    "    3\t32\t-0.6\t2\t3\t2\t2\n",
    "    2\t30\t0.13\t1\t1\t4\t2\n",
    "    \n",
    "    OUTPUT: promotion\n",
    "    \n",
    "    array(['Yes', 'Yes', 'No'])\n",
    "    indicating the first two users would recieve the promotion and \n",
    "    the last should not.\n",
    "    '''\n",
    "    df = min_max_scaler.fit_transform(df)\n",
    "    \n",
    "    y_pred = BRFC.predict(df)\n",
    "    \n",
    "    promotion_yes_no = []\n",
    "    for value in y_pred:\n",
    "        if value == 0:\n",
    "            promotion_yes_no.append(\"No\")\n",
    "        if value == 1:\n",
    "            promotion_yes_no.append(\"Yes\")\n",
    "            \n",
    "    promotion = np.asarray(promotion_yes_no)\n",
    "    \n",
    "    \n",
    "    \n",
    "    \n",
    "    return promotion"
   ]
  },
  {
   "cell_type": "code",
   "execution_count": 55,
   "metadata": {},
   "outputs": [
    {
     "name": "stdout",
     "output_type": "stream",
     "text": [
      "Nice job!  See how well your strategy worked on our test data below!\n",
      "\n",
      "Your irr with this strategy is 0.0156.\n",
      "\n",
      "Your nir with this strategy is 80.65.\n",
      "We came up with a model with an irr of 0.0188 and an nir of 189.45 on the test set.\n",
      "\n",
      " How did you do?\n"
     ]
    },
    {
     "data": {
      "text/plain": [
       "(0.015590383768191319, 80.65000000000009)"
      ]
     },
     "execution_count": 55,
     "metadata": {},
     "output_type": "execute_result"
    }
   ],
   "source": [
    "# This will test your results, and provide you back some information \n",
    "# on how well your promotion_strategy will work in practice\n",
    "\n",
    "test_results(promotion_strategy)"
   ]
  },
  {
   "cell_type": "code",
   "execution_count": null,
   "metadata": {},
   "outputs": [],
   "source": []
  }
 ],
 "metadata": {
  "kernelspec": {
   "display_name": "Python 3",
   "language": "python",
   "name": "python3"
  },
  "language_info": {
   "codemirror_mode": {
    "name": "ipython",
    "version": 3
   },
   "file_extension": ".py",
   "mimetype": "text/x-python",
   "name": "python",
   "nbconvert_exporter": "python",
   "pygments_lexer": "ipython3",
   "version": "3.7.6"
  }
 },
 "nbformat": 4,
 "nbformat_minor": 2
}
